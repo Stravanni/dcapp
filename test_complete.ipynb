{
 "cells": [
  {
   "cell_type": "markdown",
   "metadata": {},
   "source": [
    "# Test Pipeline from notebook\n",
    "- here I try to use current DC modules from notebook, as python lib (fails)."
   ]
  },
  {
   "cell_type": "code",
   "execution_count": 1,
   "metadata": {},
   "outputs": [],
   "source": [
    "import pandas as pd\n",
    "import matplotlib.pylab as plt\n",
    "import numpy as np\n",
    "import csv\n",
    "%matplotlib inline\n",
    "from sklearn.linear_model import LinearRegression\n",
    "from sklearn import datasets"
   ]
  },
  {
   "cell_type": "code",
   "execution_count": 2,
   "metadata": {},
   "outputs": [],
   "source": [
    "data_path = \"data/movies/original/\"\n",
    "file_a = data_path+\"roger_ebert.csv\"\n",
    "file_b = data_path+\"imdb.csv\"\n",
    "\n",
    "df_a_original = pd.read_csv(file_a, encoding='utf-8')\n",
    "df_b_original = pd.read_csv(file_b, encoding='utf-8')"
   ]
  },
  {
   "cell_type": "markdown",
   "metadata": {},
   "source": [
    "## Run Fahes\n",
    "- Discover DMVs\n",
    "- Set DMVs to *Null*"
   ]
  },
  {
   "cell_type": "code",
   "execution_count": 4,
   "metadata": {},
   "outputs": [
    {
     "name": "stdout",
     "output_type": "stream",
     "text": [
      "5\n"
     ]
    }
   ],
   "source": [
    "## Fahes\n",
    "from services.fahes_service import fahes_api\n",
    "fahes_path_in = \"data/movies/fahes/in/\"\n",
    "fahes_path_out = \"data/movies/fahes/out/\"\n",
    "\n",
    "print(df_a_original.year.isnull().sum())\n",
    "#df_a_original = df_a_original.dropna()\n",
    "#df_a_original.year = df_a_original.year.astype(int)\n",
    "#print(df_a_original.columns)\n",
    "\n",
    "## random inject DMVs\n",
    "X = np.random.randint(0, len(df_a_original), size=99)\n",
    "for x in X:\n",
    "    df_a_original.loc[x,'year'] = '?'\n",
    "\n",
    "## save as csv\n",
    "df_a_original.to_csv(fahes_path_in+\"data_a.csv\",encoding=\"utf-8\",sep=',',index=False, quoting = csv.QUOTE_NONNUMERIC, header=True)\n",
    "df_b_original.to_csv(fahes_path_in+\"data_b.csv\",encoding=\"utf-8\",sep=',',index=False, quoting = csv.QUOTE_NONNUMERIC, header=True)\n",
    "\n",
    "folder_in_json = {'CSV':{'dir': fahes_path_in, 'table':''}}\n",
    "folder_out_json = {'CSV':{'dir': fahes_path_out}}\n",
    "\n",
    "fahes_api.executeService(folder_in_json, folder_out_json)"
   ]
  },
  {
   "cell_type": "code",
   "execution_count": 5,
   "metadata": {},
   "outputs": [
    {
     "data": {
      "text/plain": [
       "197"
      ]
     },
     "execution_count": 5,
     "metadata": {},
     "output_type": "execute_result"
    }
   ],
   "source": [
    "pd.read_csv(fahes_path_out+\"data_a.csv\", encoding='utf-8').year.isnull().sum()"
   ]
  },
  {
   "cell_type": "code",
   "execution_count": 6,
   "metadata": {},
   "outputs": [],
   "source": [
    "with open(fahes_path_in+\"data_a.csv\", 'U') as f:\n",
    " \n",
    "    newText=f.read()\n",
    " \n",
    "    while '.0' in newText:\n",
    "        newText=newText.replace('.0', '')\n",
    " \n",
    "    with open(fahes_path_in+\"data_a.csv\", \"w\") as f:\n",
    "        f.write(newText)\n",
    "\n",
    "with open(fahes_path_out+\"data_a.csv\", 'U') as f:\n",
    " \n",
    "    newText=f.read()\n",
    " \n",
    "    while '.0' in newText:\n",
    "        newText=newText.replace('.0', '')\n",
    " \n",
    "    with open(fahes_path_out+\"data_a.csv\", \"w\") as f:\n",
    "        f.write(newText)"
   ]
  },
  {
   "cell_type": "code",
   "execution_count": 7,
   "metadata": {},
   "outputs": [],
   "source": [
    "#from services.tmp import fahes_api\n",
    "from services.impute import imputedb_api"
   ]
  },
  {
   "cell_type": "code",
   "execution_count": 12,
   "metadata": {},
   "outputs": [
    {
     "ename": "CalledProcessError",
     "evalue": "Command '['/Users/gio/Workspace/dcapp2/services/impute/imputedb/imputedb', 'load', '--db', '/Users/gio/Workspace/dcapp2/services/impute/app/storage/imputedb/tmp.db', 'data/movies/fahes/out//data_a.csv']' returned non-zero exit status 1",
     "output_type": "error",
     "traceback": [
      "\u001b[0;31m---------------------------------------------------------------------------\u001b[0m",
      "\u001b[0;31mCalledProcessError\u001b[0m                        Traceback (most recent call last)",
      "\u001b[0;32m<ipython-input-12-7f5a0b5b9f83>\u001b[0m in \u001b[0;36m<module>\u001b[0;34m()\u001b[0m\n\u001b[1;32m      2\u001b[0m imputedb_api.executeService({\"CSV\":{\"dir\":fahes_path_out, \"table\":\"data_a\"}}, \n\u001b[1;32m      3\u001b[0m                             \u001b[0;34m{\u001b[0m\u001b[0;34m\"CSV\"\u001b[0m\u001b[0;34m:\u001b[0m\u001b[0;34m{\u001b[0m\u001b[0;34m\"dir\"\u001b[0m\u001b[0;34m:\u001b[0m\u001b[0;34m\"data/movies/impute/out/\"\u001b[0m\u001b[0;34m}\u001b[0m\u001b[0;34m}\u001b[0m\u001b[0;34m,\u001b[0m\u001b[0;34m\u001b[0m\u001b[0m\n\u001b[0;32m----> 4\u001b[0;31m                             \"select year from data_a;\",0)\n\u001b[0m",
      "\u001b[0;32m/Users/gio/Workspace/dcapp2/services/impute/imputedb_api.pyc\u001b[0m in \u001b[0;36mexecuteService\u001b[0;34m(source, out_path, q, r, params)\u001b[0m\n\u001b[1;32m     49\u001b[0m         \u001b[0mos\u001b[0m\u001b[0;34m.\u001b[0m\u001b[0mmakedirs\u001b[0m\u001b[0;34m(\u001b[0m\u001b[0mdir_metadata\u001b[0m\u001b[0;34m)\u001b[0m\u001b[0;34m\u001b[0m\u001b[0m\n\u001b[1;32m     50\u001b[0m \u001b[0;34m\u001b[0m\u001b[0m\n\u001b[0;32m---> 51\u001b[0;31m     \u001b[0mexecute_imputedb\u001b[0m\u001b[0;34m(\u001b[0m\u001b[0msource\u001b[0m\u001b[0;34m,\u001b[0m \u001b[0mout_path\u001b[0m\u001b[0;34m,\u001b[0m \u001b[0mq\u001b[0m\u001b[0;34m,\u001b[0m \u001b[0mr\u001b[0m\u001b[0;34m)\u001b[0m\u001b[0;34m\u001b[0m\u001b[0m\n\u001b[0m\u001b[1;32m     52\u001b[0m \u001b[0;34m\u001b[0m\u001b[0m\n\u001b[1;32m     53\u001b[0m     \u001b[0mtransform_null_to_imVal\u001b[0m\u001b[0;34m(\u001b[0m\u001b[0mdir_in\u001b[0m\u001b[0;34m+\u001b[0m \u001b[0msource\u001b[0m\u001b[0;34m[\u001b[0m\u001b[0;34m'CSV'\u001b[0m\u001b[0;34m]\u001b[0m\u001b[0;34m[\u001b[0m\u001b[0;34m'table'\u001b[0m\u001b[0;34m]\u001b[0m\u001b[0;34m+\u001b[0m\u001b[0;34m\".csv\"\u001b[0m\u001b[0;34m,\u001b[0m \u001b[0mdir_metadata\u001b[0m\u001b[0;34m+\u001b[0m\u001b[0;34m\"out.csv\"\u001b[0m\u001b[0;34m,\u001b[0m \u001b[0mdir_out\u001b[0m\u001b[0;34m,\u001b[0m \u001b[0mparams\u001b[0m\u001b[0;34m)\u001b[0m\u001b[0;34m\u001b[0m\u001b[0m\n",
      "\u001b[0;32m/Users/gio/Workspace/dcapp2/services/impute/imputedb_api.pyc\u001b[0m in \u001b[0;36mexecute_imputedb\u001b[0;34m(src, dst, query, alpha)\u001b[0m\n\u001b[1;32m     85\u001b[0m \u001b[0;34m\u001b[0m\u001b[0m\n\u001b[1;32m     86\u001b[0m         \u001b[0mload_cmd\u001b[0m \u001b[0;34m=\u001b[0m \u001b[0;34m[\u001b[0m\u001b[0mIMPUTEDB_PATH\u001b[0m\u001b[0;34m,\u001b[0m \u001b[0;34m'load'\u001b[0m\u001b[0;34m,\u001b[0m \u001b[0;34m'--db'\u001b[0m\u001b[0;34m,\u001b[0m \u001b[0mDB_PATH\u001b[0m\u001b[0;34m]\u001b[0m \u001b[0;34m+\u001b[0m \u001b[0mcsv_paths\u001b[0m\u001b[0;34m\u001b[0m\u001b[0m\n\u001b[0;32m---> 87\u001b[0;31m         \u001b[0msubprocess\u001b[0m\u001b[0;34m.\u001b[0m\u001b[0mcheck_call\u001b[0m\u001b[0;34m(\u001b[0m\u001b[0mload_cmd\u001b[0m\u001b[0;34m)\u001b[0m\u001b[0;34m\u001b[0m\u001b[0m\n\u001b[0m\u001b[1;32m     88\u001b[0m \u001b[0;34m\u001b[0m\u001b[0m\n\u001b[1;32m     89\u001b[0m         \u001b[0mquery_cmd\u001b[0m \u001b[0;34m=\u001b[0m \u001b[0;34m[\u001b[0m\u001b[0mIMPUTEDB_PATH\u001b[0m\u001b[0;34m,\u001b[0m \u001b[0;34m'query'\u001b[0m\u001b[0;34m,\u001b[0m \u001b[0;34m'--db'\u001b[0m\u001b[0;34m,\u001b[0m \u001b[0mDB_PATH\u001b[0m\u001b[0;34m,\u001b[0m \u001b[0;34m'--csv'\u001b[0m\u001b[0;34m,\u001b[0m \u001b[0;34m'-c'\u001b[0m\u001b[0;34m,\u001b[0m \u001b[0mquery\u001b[0m\u001b[0;34m]\u001b[0m\u001b[0;34m\u001b[0m\u001b[0m\n",
      "\u001b[0;32m/Users/gio/anaconda3/envs/py27/lib/python2.7/subprocess.pyc\u001b[0m in \u001b[0;36mcheck_call\u001b[0;34m(*popenargs, **kwargs)\u001b[0m\n\u001b[1;32m    188\u001b[0m         \u001b[0;32mif\u001b[0m \u001b[0mcmd\u001b[0m \u001b[0;32mis\u001b[0m \u001b[0mNone\u001b[0m\u001b[0;34m:\u001b[0m\u001b[0;34m\u001b[0m\u001b[0m\n\u001b[1;32m    189\u001b[0m             \u001b[0mcmd\u001b[0m \u001b[0;34m=\u001b[0m \u001b[0mpopenargs\u001b[0m\u001b[0;34m[\u001b[0m\u001b[0;36m0\u001b[0m\u001b[0;34m]\u001b[0m\u001b[0;34m\u001b[0m\u001b[0m\n\u001b[0;32m--> 190\u001b[0;31m         \u001b[0;32mraise\u001b[0m \u001b[0mCalledProcessError\u001b[0m\u001b[0;34m(\u001b[0m\u001b[0mretcode\u001b[0m\u001b[0;34m,\u001b[0m \u001b[0mcmd\u001b[0m\u001b[0;34m)\u001b[0m\u001b[0;34m\u001b[0m\u001b[0m\n\u001b[0m\u001b[1;32m    191\u001b[0m     \u001b[0;32mreturn\u001b[0m \u001b[0;36m0\u001b[0m\u001b[0;34m\u001b[0m\u001b[0m\n\u001b[1;32m    192\u001b[0m \u001b[0;34m\u001b[0m\u001b[0m\n",
      "\u001b[0;31mCalledProcessError\u001b[0m: Command '['/Users/gio/Workspace/dcapp2/services/impute/imputedb/imputedb', 'load', '--db', '/Users/gio/Workspace/dcapp2/services/impute/app/storage/imputedb/tmp.db', 'data/movies/fahes/out//data_a.csv']' returned non-zero exit status 1"
     ]
    }
   ],
   "source": [
    "#imputedb_api.executeService(input_source, output_destination, q, r)\n",
    "imputedb_api.executeService({\"CSV\":{\"dir\":fahes_path_out, \"table\":\"data_a\"}}, \n",
    "                            {\"CSV\":{\"dir\":\"data/movies/impute/out/\"}}, \n",
    "                            \"select year from data_a;\",0)"
   ]
  },
  {
   "cell_type": "code",
   "execution_count": null,
   "metadata": {},
   "outputs": [],
   "source": []
  },
  {
   "cell_type": "code",
   "execution_count": null,
   "metadata": {},
   "outputs": [],
   "source": []
  },
  {
   "cell_type": "code",
   "execution_count": null,
   "metadata": {},
   "outputs": [],
   "source": []
  },
  {
   "cell_type": "code",
   "execution_count": null,
   "metadata": {},
   "outputs": [],
   "source": []
  },
  {
   "cell_type": "code",
   "execution_count": null,
   "metadata": {},
   "outputs": [],
   "source": []
  },
  {
   "cell_type": "code",
   "execution_count": null,
   "metadata": {},
   "outputs": [],
   "source": []
  },
  {
   "cell_type": "code",
   "execution_count": 22,
   "metadata": {},
   "outputs": [],
   "source": [
    "# Use only common columns\n",
    "cols = [u'movie_name', u'genre', u'directors', u'actors', u'duration', u'id']\n",
    "df_a = df_a_original[cols]\n",
    "df_b = df_b_original[cols]\n",
    "\n",
    "## labeled data\n",
    "file_l = data_path+\"labeled_data.csv\"\n",
    "df_l = pd.read_csv(file_l, encoding='utf-8')\n",
    "df_l = df_l[[\"ltable.id\",\"rtable.id\",\"gold\"]]\n",
    "df_l.columns = [[\"ltable_id\",\"rtable_id\",\"gold\"]]\n",
    "\n",
    "## candidate pairs (from blocking)\n",
    "file_c = data_path+\"candset.csv\"\n",
    "df_c = pd.read_csv(file_c, encoding='utf-8')\n",
    "df_c = df_c[[\"ltable.id\",\"rtable.id\"]]\n",
    "df_c.columns = [[\"ltable_id\",\"rtable_id\"]]\n",
    "df_c[\"gold\"] = 0"
   ]
  },
  {
   "cell_type": "code",
   "execution_count": 11,
   "metadata": {},
   "outputs": [],
   "source": []
  },
  {
   "cell_type": "code",
   "execution_count": 12,
   "metadata": {},
   "outputs": [],
   "source": []
  },
  {
   "cell_type": "code",
   "execution_count": null,
   "metadata": {},
   "outputs": [],
   "source": []
  },
  {
   "cell_type": "code",
   "execution_count": null,
   "metadata": {},
   "outputs": [],
   "source": []
  },
  {
   "cell_type": "code",
   "execution_count": null,
   "metadata": {},
   "outputs": [],
   "source": []
  },
  {
   "cell_type": "code",
   "execution_count": null,
   "metadata": {},
   "outputs": [],
   "source": []
  },
  {
   "cell_type": "code",
   "execution_count": null,
   "metadata": {},
   "outputs": [],
   "source": []
  },
  {
   "cell_type": "code",
   "execution_count": null,
   "metadata": {},
   "outputs": [],
   "source": []
  }
 ],
 "metadata": {
  "kernelspec": {
   "display_name": "Python 2",
   "language": "python",
   "name": "python2"
  },
  "language_info": {
   "codemirror_mode": {
    "name": "ipython",
    "version": 2
   },
   "file_extension": ".py",
   "mimetype": "text/x-python",
   "name": "python",
   "nbconvert_exporter": "python",
   "pygments_lexer": "ipython2",
   "version": "2.7.15"
  }
 },
 "nbformat": 4,
 "nbformat_minor": 2
}
