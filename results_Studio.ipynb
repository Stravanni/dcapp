{
 "cells": [
  {
   "cell_type": "markdown",
   "metadata": {},
   "source": [
    "# Movies Data\n",
    "### Goal: \n",
    "\n",
    "### To measure the correlation between movie ratings of a generic audience and critic ratings\n",
    "\n",
    "### Data sets\n",
    "- User rating: *imdb.com* users\n",
    "- Critic ratings: *rogerebert.com* critics\n",
    "    \n",
    "|dataset|#records|notes|\n",
    "|:--: |:--:|:--:|\n",
    "|Roger Ebert (https://www.rogerebert.com) |3.5k|contains information about critic rating|\n",
    "|IMBD (https://www.imdb.com) |6.8k|contains information about audience rating|\n",
    "\n",
    "---\n",
    "\n",
    "Since the scope of the applicaiton is to try DC component, and since imputeDB can only impute integer values, I selected the attribute year from *roger_ebert* and I randomly injected ~30 \"?\" character.\n",
    "\n",
    "Then, Fahes is employed to discover DMVs, and ImputeDB for the imputetion\n",
    "\n",
    "---"
   ]
  },
  {
   "cell_type": "code",
   "execution_count": 272,
   "metadata": {},
   "outputs": [],
   "source": [
    "import pandas as pd\n",
    "import matplotlib.pylab as plt\n",
    "import numpy as np\n",
    "import csv\n",
    "%matplotlib inline\n",
    "from sklearn.linear_model import LinearRegression\n",
    "from sklearn import datasets"
   ]
  },
  {
   "cell_type": "code",
   "execution_count": 437,
   "metadata": {},
   "outputs": [],
   "source": [
    "'''\n",
    "{fahes_only} is the dir for results obtained w/o employing ImputeDB\n",
    "{with_impute} is the dir for results obtained employing ImputeDB\n",
    "\n",
    "To perfroma the analysis, comment/uncomment the corresponding line\n",
    "'''\n",
    "\n",
    "base_path = './data/retults_studio/'\n",
    "path_in = base_path + \"fahes_only/\"\n",
    "path_in = base_path + \"with_impute/\"\n",
    "path_out = \"./\"\n",
    "\n",
    "path_roger = path_in + \"dataset_a.csv\"\n",
    "path_imdb = path_in + \"dataset_b.csv\"\n",
    "lableled = path_in + \"test_predictions.csv\""
   ]
  },
  {
   "cell_type": "code",
   "execution_count": 438,
   "metadata": {},
   "outputs": [],
   "source": [
    "# Loading the data\n",
    "df1 = pd.read_csv(path_roger, encoding = \"ISO-8859-1\")\n",
    "df2 = pd.read_csv(path_imdb, encoding = \"ISO-8859-1\")\n",
    "\n",
    "# Loading the output of DeepER\n",
    "df_labeled = pd.read_csv(lableled)"
   ]
  },
  {
   "cell_type": "code",
   "execution_count": 439,
   "metadata": {},
   "outputs": [],
   "source": [
    "# df_labeled\n",
    "# DeepER lables all the candidate pairs, with wither 1 or 0 (i.e., match and non-match)\n",
    "# here we filter only the matches\n",
    "df_labled_true = df_labeled[df_labeled['gold']==1][['ltable_id','rtable_id']]\n",
    "df_labled_true.columns = [\"id1\",\"id2\"]"
   ]
  },
  {
   "cell_type": "code",
   "execution_count": 440,
   "metadata": {},
   "outputs": [
    {
     "name": "stdout",
     "output_type": "stream",
     "text": [
      "Number of matches found by DeepER:\t\t296\n",
      "Number of comparison executed by DeepER:\t504\n"
     ]
    }
   ],
   "source": [
    "# number of matches found by DeepER\n",
    "print('Number of matches found by DeepER:\\t\\t{}'.format(len(df_labled_true)))\n",
    "print('Number of comparison executed by DeepER:\\t{}'.format(len(df_labeled)))"
   ]
  },
  {
   "cell_type": "code",
   "execution_count": 441,
   "metadata": {},
   "outputs": [],
   "source": [
    "set1 = set(df_labled_true.id1)\n",
    "set2 = set(df_labled_true.id2)"
   ]
  },
  {
   "cell_type": "code",
   "execution_count": 442,
   "metadata": {},
   "outputs": [],
   "source": [
    "# joining the two data set using the matching table\n",
    "\n",
    "partial = pd.merge(df2, df_labled_true, left_on = 'id', right_on = 'id2')\n",
    "df_ = pd.merge(df1, partial, left_on = 'id', right_on = 'id1')"
   ]
  },
  {
   "cell_type": "code",
   "execution_count": 443,
   "metadata": {},
   "outputs": [],
   "source": [
    "# renaming cols\n",
    "colnames = ['id_x', 'movie_name_x', 'year', 'directors', 'aa',\n",
    "            'critic_rating', 'genre', 'pg_rating', 'duration', 'id_y',\n",
    "            'movie_name_y', 'directorss', 'actors', 'movie_rating', 'genres',\n",
    "            'dd', 'id1', 'id2']"
   ]
  },
  {
   "cell_type": "code",
   "execution_count": 444,
   "metadata": {},
   "outputs": [],
   "source": [
    "df_.columns = colnames\n",
    "df_join = df_.drop(['id1', 'id2'], axis=1)"
   ]
  },
  {
   "cell_type": "code",
   "execution_count": 510,
   "metadata": {},
   "outputs": [],
   "source": [
    "# fueature selected\n",
    "cc = [\n",
    "    'critic_rating', # from roger\n",
    "    'pg_rating',\n",
    "    'year', # from roger, imputed (or null)\n",
    "    'duration',\n",
    "    'actors',\n",
    "    'movie_rating' # from imdb\n",
    "     ]"
   ]
  },
  {
   "cell_type": "code",
   "execution_count": 511,
   "metadata": {},
   "outputs": [],
   "source": [
    "movies = df_join[cc]\n",
    "movies = movies.dropna()"
   ]
  },
  {
   "cell_type": "markdown",
   "metadata": {},
   "source": [
    "## User rating vs. Critic Rating (Pearson correlation)"
   ]
  },
  {
   "cell_type": "code",
   "execution_count": 512,
   "metadata": {},
   "outputs": [],
   "source": [
    "import numpy\n",
    "#corr = numpy.corrcoef(movies['movie_rating'], movies['critic_rating'])\n",
    "#corr"
   ]
  },
  {
   "cell_type": "code",
   "execution_count": 513,
   "metadata": {},
   "outputs": [],
   "source": [
    "dd = movies[['movie_rating','critic_rating']]"
   ]
  },
  {
   "cell_type": "code",
   "execution_count": 514,
   "metadata": {},
   "outputs": [
    {
     "data": {
      "text/html": [
       "<div>\n",
       "<style scoped>\n",
       "    .dataframe tbody tr th:only-of-type {\n",
       "        vertical-align: middle;\n",
       "    }\n",
       "\n",
       "    .dataframe tbody tr th {\n",
       "        vertical-align: top;\n",
       "    }\n",
       "\n",
       "    .dataframe thead th {\n",
       "        text-align: right;\n",
       "    }\n",
       "</style>\n",
       "<table border=\"1\" class=\"dataframe\">\n",
       "  <thead>\n",
       "    <tr style=\"text-align: right;\">\n",
       "      <th></th>\n",
       "      <th>movie_rating</th>\n",
       "      <th>critic_rating</th>\n",
       "    </tr>\n",
       "  </thead>\n",
       "  <tbody>\n",
       "    <tr>\n",
       "      <th>movie_rating</th>\n",
       "      <td>1.000000</td>\n",
       "      <td>0.481381</td>\n",
       "    </tr>\n",
       "    <tr>\n",
       "      <th>critic_rating</th>\n",
       "      <td>0.481381</td>\n",
       "      <td>1.000000</td>\n",
       "    </tr>\n",
       "  </tbody>\n",
       "</table>\n",
       "</div>"
      ],
      "text/plain": [
       "               movie_rating  critic_rating\n",
       "movie_rating       1.000000       0.481381\n",
       "critic_rating      0.481381       1.000000"
      ]
     },
     "execution_count": 514,
     "metadata": {},
     "output_type": "execute_result"
    }
   ],
   "source": [
    "correlations = dd.corr()\n",
    "correlations"
   ]
  },
  {
   "cell_type": "markdown",
   "metadata": {},
   "source": [
    "## Visualization"
   ]
  },
  {
   "cell_type": "code",
   "execution_count": 515,
   "metadata": {},
   "outputs": [
    {
     "data": {
      "image/png": "[encoded data removed]",
      "text/plain": [
       "<Figure size 576x576 with 3 Axes>"
      ]
     },
     "metadata": {
      "needs_background": "light"
     },
     "output_type": "display_data"
    }
   ],
   "source": [
    "from matplotlib.ticker import NullFormatter\n",
    "\n",
    "# the random data\n",
    "x = dd.movie_rating.values\n",
    "y = dd.critic_rating.values\n",
    "\n",
    "nullfmt = NullFormatter()         # no labels\n",
    "\n",
    "# definitions for the axes\n",
    "left, width = 0.1, 0.65\n",
    "bottom, height = 0.1, 0.65\n",
    "bottom_h = left_h = left + width + 0.02\n",
    "\n",
    "rect_scatter = [left, bottom, width, height]\n",
    "rect_histx = [left, bottom_h, width, 0.2]\n",
    "rect_histy = [left_h, bottom, 0.2, height]\n",
    "\n",
    "# start with a rectangular Figure\n",
    "plt.figure(1, figsize=(8, 8))\n",
    "\n",
    "axScatter = plt.axes(rect_scatter)\n",
    "axHistx = plt.axes(rect_histx)\n",
    "axHisty = plt.axes(rect_histy)\n",
    "\n",
    "# no labels\n",
    "axHistx.xaxis.set_major_formatter(nullfmt)\n",
    "axHisty.yaxis.set_major_formatter(nullfmt)\n",
    "\n",
    "# the scatter plot:\n",
    "axScatter.scatter(x, y)\n",
    "\n",
    "# now determine nice limits by hand:\n",
    "binwidth = 0.5\n",
    "xymax = np.max([np.max(np.fabs(x)), np.max(np.fabs(y))])\n",
    "lim = (int(xymax/binwidth) + 1) * binwidth\n",
    "\n",
    "axScatter.set_xlim((0, max(dd.movie_rating)+0.3))\n",
    "axScatter.set_ylim((0, max(dd.critic_rating)+0.3))\n",
    "\n",
    "bins = np.arange(-lim, lim + binwidth, binwidth)\n",
    "axHistx.hist(x, bins=bins)\n",
    "axHisty.hist(y, bins=bins, orientation='horizontal')\n",
    "\n",
    "axHistx.set_xlim(axScatter.get_xlim())\n",
    "axHisty.set_ylim(axScatter.get_ylim())\n",
    "\n",
    "axHistx.set_title(\"<---User Rating Distribution\", rotation=0,  x=1.23, y=0.6 )\n",
    "axHisty.set_title(\"<---Critinc Rating Distribution\",rotation=0,  x=1.79, y=0.7)\n",
    "\n",
    "plt.show()"
   ]
  },
  {
   "cell_type": "code",
   "execution_count": 516,
   "metadata": {},
   "outputs": [
    {
     "name": "stdout",
     "output_type": "stream",
     "text": [
      "Max critic rating:\t4.0\n",
      "Max user rating:\t8.3\n"
     ]
    }
   ],
   "source": [
    "print('Max critic rating:\\t{}'.format(max(dd.critic_rating)))\n",
    "print('Max user rating:\\t{}'.format(max(dd.movie_rating)))"
   ]
  },
  {
   "cell_type": "code",
   "execution_count": null,
   "metadata": {},
   "outputs": [],
   "source": []
  },
  {
   "cell_type": "code",
   "execution_count": null,
   "metadata": {},
   "outputs": [],
   "source": []
  },
  {
   "cell_type": "code",
   "execution_count": null,
   "metadata": {},
   "outputs": [],
   "source": []
  },
  {
   "cell_type": "code",
   "execution_count": 524,
   "metadata": {},
   "outputs": [],
   "source": [
    "mm = movies.copy()"
   ]
  },
  {
   "cell_type": "code",
   "execution_count": 525,
   "metadata": {},
   "outputs": [],
   "source": [
    "ml = mm#[mm.critic_rating>1.5]"
   ]
  },
  {
   "cell_type": "markdown",
   "metadata": {},
   "source": [
    "## Movie rating Prediction"
   ]
  },
  {
   "cell_type": "code",
   "execution_count": 526,
   "metadata": {},
   "outputs": [],
   "source": [
    "X = ml.drop('movie_rating',axis=1)\n",
    "Y = ml[['movie_rating']]\n",
    "\n",
    "X = pd.get_dummies(X)"
   ]
  },
  {
   "cell_type": "code",
   "execution_count": 527,
   "metadata": {},
   "outputs": [],
   "source": [
    "from sklearn.model_selection import train_test_split\n",
    "X_train, X_test, Y_train, Y_test = train_test_split(X, Y, test_size=0.25, random_state=1)"
   ]
  },
  {
   "cell_type": "code",
   "execution_count": 528,
   "metadata": {},
   "outputs": [
    {
     "data": {
      "text/plain": [
       "LinearRegression(copy_X=True, fit_intercept=True, n_jobs=None,\n",
       "         normalize=False)"
      ]
     },
     "execution_count": 528,
     "metadata": {},
     "output_type": "execute_result"
    }
   ],
   "source": [
    "from sklearn.linear_model import LinearRegression\n",
    "\n",
    "regression_model = LinearRegression()\n",
    "regression_model.fit(X_train, Y_train)"
   ]
  },
  {
   "cell_type": "code",
   "execution_count": 529,
   "metadata": {},
   "outputs": [
    {
     "data": {
      "text/plain": [
       "0.315539454668742"
      ]
     },
     "execution_count": 529,
     "metadata": {},
     "output_type": "execute_result"
    }
   ],
   "source": [
    "regression_model.score(X_test, Y_test)"
   ]
  },
  {
   "cell_type": "code",
   "execution_count": null,
   "metadata": {},
   "outputs": [],
   "source": []
  },
  {
   "cell_type": "code",
   "execution_count": null,
   "metadata": {},
   "outputs": [],
   "source": []
  },
  {
   "cell_type": "code",
   "execution_count": null,
   "metadata": {},
   "outputs": [],
   "source": []
  },
  {
   "cell_type": "code",
   "execution_count": null,
   "metadata": {},
   "outputs": [],
   "source": []
  }
 ],
 "metadata": {
  "kernelspec": {
   "display_name": "Python 3",
   "language": "python",
   "name": "python3"
  },
  "language_info": {
   "codemirror_mode": {
    "name": "ipython",
    "version": 3
   },
   "file_extension": ".py",
   "mimetype": "text/x-python",
   "name": "python",
   "nbconvert_exporter": "python",
   "pygments_lexer": "ipython3",
   "version": "3.6.6"
  },
  "toc": {
   "base_numbering": 1,
   "nav_menu": {},
   "number_sections": false,
   "sideBar": false,
   "skip_h1_title": false,
   "title_cell": "Table of Contents",
   "title_sidebar": "Contents",
   "toc_cell": false,
   "toc_position": {},
   "toc_section_display": false,
   "toc_window_display": false
  }
 },
 "nbformat": 4,
 "nbformat_minor": 2
}
